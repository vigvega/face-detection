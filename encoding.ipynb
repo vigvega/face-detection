{
 "cells": [
  {
   "cell_type": "code",
   "execution_count": null,
   "metadata": {},
   "outputs": [],
   "source": [
    "import cv2\n",
    "import matplotlib.pyplot as plt\n",
    "from facenet_pytorch import InceptionResnetV1\n",
    "import torch\n",
    "import torchvision"
   ]
  },
  {
   "cell_type": "code",
   "execution_count": null,
   "metadata": {},
   "outputs": [],
   "source": [
    "face_cascade = cv2.CascadeClassifier('data/haarcascade_frontalface_alt.xml')\n",
    "img = cv2.imread(\"images/alyssa.jpg\")\n",
    "\n",
    "imgRGB = cv2.cvtColor(img, cv2.COLOR_BGR2RGB) # invierto canales\n",
    "imgGray = cv2.cvtColor(imgRGB, cv2.COLOR_RGB2GRAY) # imagen en blanco y negro\n",
    "plt.imshow(imgGray, cmap=\"gray\") # muestro la imagen"
   ]
  },
  {
   "cell_type": "code",
   "execution_count": null,
   "metadata": {},
   "outputs": [],
   "source": [
    "faces = face_cascade.detectMultiScale(imgGray) # detecta todas las caras que haya en la imagen\n",
    "for (x, y, w, h) in faces:\n",
    "    f = imgRGB[y:y+w,x:x+h]\n",
    "\n",
    "plt.imshow(f)\n",
    "plt.axis('off')\n"
   ]
  },
  {
   "cell_type": "code",
   "execution_count": null,
   "metadata": {},
   "outputs": [],
   "source": [
    "resnet = InceptionResnetV1(pretrained='vggface2').eval()\n",
    "\n",
    "img_tensor = torchvision.transforms.functional.to_tensor(f)\n",
    "#img_tensor = img_tensor[:3]\n",
    "\n",
    "img_embedding = resnet(img_tensor.unsqueeze(0))\n",
    "\n",
    "data = [img_embedding.detach(), \"chris\"]\n",
    "torch.save(data, 'data.pt')"
   ]
  },
  {
   "cell_type": "code",
   "execution_count": null,
   "metadata": {},
   "outputs": [],
   "source": [
    "saved_data = torch.load('data.pt') # loading data.pt file\n",
    "embedding_list = saved_data[0] # getting embedding data\n",
    "name_list = saved_data[1] # getting list of names\n",
    "dist_list = [] # list of matched distances, minimum distance is used to identify the person"
   ]
  }
 ],
 "metadata": {
  "kernelspec": {
   "display_name": "Python 3.10.6 64-bit",
   "language": "python",
   "name": "python3"
  },
  "language_info": {
   "codemirror_mode": {
    "name": "ipython",
    "version": 3
   },
   "file_extension": ".py",
   "mimetype": "text/x-python",
   "name": "python",
   "nbconvert_exporter": "python",
   "pygments_lexer": "ipython3",
   "version": "3.10.6"
  },
  "orig_nbformat": 4,
  "vscode": {
   "interpreter": {
    "hash": "916dbcbb3f70747c44a77c7bcd40155683ae19c65e1c03b4aa3499c5328201f1"
   }
  }
 },
 "nbformat": 4,
 "nbformat_minor": 2
}
